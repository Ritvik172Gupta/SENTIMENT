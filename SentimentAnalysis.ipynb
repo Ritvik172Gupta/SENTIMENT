{
 "cells": [
  {
   "cell_type": "code",
   "execution_count": 2,
   "metadata": {},
   "outputs": [
    {
     "name": "stderr",
     "output_type": "stream",
     "text": [
      "/Library/Frameworks/Python.framework/Versions/3.12/lib/python3.12/site-packages/tqdm/auto.py:21: TqdmWarning: IProgress not found. Please update jupyter and ipywidgets. See https://ipywidgets.readthedocs.io/en/stable/user_install.html\n",
      "  from .autonotebook import tqdm as notebook_tqdm\n"
     ]
    }
   ],
   "source": [
    "import pandas as pd\n",
    "import torch\n",
    "import numpy as np\n",
    "from transformers import BertTokenizer, BertForSequenceClassification, pipeline\n",
    "from tqdm import tqdm"
   ]
  },
  {
   "cell_type": "code",
   "execution_count": 3,
   "metadata": {},
   "outputs": [
    {
     "name": "stderr",
     "output_type": "stream",
     "text": [
      "Device set to use cpu\n"
     ]
    }
   ],
   "source": [
    "# Load Fine-Tuned Model\n",
    "model_path = \"/Users/ritvikgupta1721/Documents/MINORII/TRAINEDBERT\"\n",
    "tokenizer = BertTokenizer.from_pretrained(model_path)\n",
    "model = BertForSequenceClassification.from_pretrained(model_path)\n",
    "\n",
    "device = torch.device(\"cuda\" if torch.cuda.is_available() else \"cpu\")\n",
    "model.to(device)\n",
    "\n",
    "# Create sentiment analysis pipeline using fine-tuned model\n",
    "sentiment_pipeline = pipeline(\"sentiment-analysis\", model=model, tokenizer=tokenizer, device=0 if torch.cuda.is_available() else -1)"
   ]
  },
  {
   "cell_type": "code",
   "execution_count": 4,
   "metadata": {},
   "outputs": [],
   "source": [
    "def get_sentiment(text):\n",
    "    \"\"\"Analyze sentiment using the fine-tuned BERT model with proper truncation.\"\"\"\n",
    "    \n",
    "    # Ensure input is a string and handle NaN values\n",
    "    if not isinstance(text, str):\n",
    "        text = str(text)  # Convert any non-string input to string\n",
    "    \n",
    "    # Truncate to 512 characters (if text is too long)\n",
    "    text = text[:512]\n",
    "\n",
    "    # Run through model pipeline\n",
    "    result = sentiment_pipeline(text)[0]\n",
    "    \n",
    "    label_map = {\"LABEL_0\": \"negative\", \"LABEL_1\": \"neutral\", \"LABEL_2\": \"positive\"}\n",
    "    sentiment = label_map.get(result['label'], \"unknown\")\n",
    "    confidence = result['score']\n",
    "    \n",
    "    return sentiment, confidence"
   ]
  },
  {
   "cell_type": "code",
   "execution_count": 5,
   "metadata": {},
   "outputs": [],
   "source": [
    "def analyze_text_input():\n",
    "    \"\"\"Takes user input (paragraph) and returns sentiment analysis.\"\"\"\n",
    "    text = input(\"Enter your text: \")\n",
    "    sentiment, confidence = get_sentiment(text)\n",
    "    print(f\"Sentiment: {sentiment} (Confidence: {confidence*100:.2f}%)\")"
   ]
  },
  {
   "cell_type": "code",
   "execution_count": 6,
   "metadata": {},
   "outputs": [],
   "source": [
    "\n",
    "def analyze_csv(file_path):\n",
    "    \"\"\"Reads a CSV file and analyzes sentiment for the most relevant text column.\"\"\"\n",
    "\n",
    "    # Load CSV file\n",
    "    df = pd.read_csv(file_path)\n",
    "    \n",
    "    # Identify potential text columns (excluding numeric ones)\n",
    "    text_columns = [col for col in df.columns if df[col].dtype == 'O']  # 'O' means object (string)\n",
    "    \n",
    "    if not text_columns:\n",
    "        print(\"Error: No text column found for sentiment analysis.\")\n",
    "        return\n",
    "    \n",
    "    print(f\"Detected text columns: {text_columns}\")\n",
    "\n",
    "    # If multiple text columns exist, concatenate them\n",
    "    df[\"combined_text\"] = df[text_columns].astype(str).agg(\" \".join, axis=1)\n",
    "\n",
    "    sentiments = []\n",
    "    confidences = []\n",
    "\n",
    "    for text in tqdm(df[\"combined_text\"], desc=\"Analyzing Sentiments\"):\n",
    "        sentiment, confidence = get_sentiment(text)\n",
    "        sentiments.append(sentiment)\n",
    "        confidences.append(confidence)\n",
    "\n",
    "    df[\"Predicted Sentiment\"] = sentiments\n",
    "    df[\"Confidence\"] = confidences\n",
    "\n",
    "    # Save results\n",
    "    output_file_path = \"/Users/ritvikgupta1721/Documents/MINORII/FEATURES/SENTIMENT/OUTPUT/sentiment_analysis_results.csv\"\n",
    "    df.to_csv(output_file_path, index=False)\n",
    "\n",
    "    print(f\"Sentiment analysis completed! Results saved to {output_file_path}\")\n",
    "\n",
    "    # Display results using Pandas\n",
    "    print(df[[\"combined_text\", \"Predicted Sentiment\", \"Confidence\"]].head())\n",
    "\n"
   ]
  },
  {
   "cell_type": "code",
   "execution_count": 7,
   "metadata": {},
   "outputs": [],
   "source": [
    "def main():\n",
    "    \"\"\"User selects input type for sentiment analysis.\"\"\"\n",
    "    choice = input(\"Choose input type (1: Text Input, 2: CSV File): \")\n",
    "    if choice == '1':\n",
    "        analyze_text_input()\n",
    "    elif choice == '2':\n",
    "        file_path = input(\"Enter CSV file path: \")\n",
    "        analyze_csv(file_path)\n",
    "    else:\n",
    "        print(\"Invalid choice. Please enter 1 or 2.\")"
   ]
  },
  {
   "cell_type": "code",
   "execution_count": 12,
   "metadata": {},
   "outputs": [
    {
     "name": "stdout",
     "output_type": "stream",
     "text": [
      "Detected text columns: ['Emails', 'Unnamed: 1', 'Unnamed: 2', 'Unnamed: 3', 'Unnamed: 4', 'Unnamed: 5', 'Unnamed: 6', 'Unnamed: 7', 'Unnamed: 8', 'Unnamed: 9', 'Unnamed: 10', 'Unnamed: 11', 'Unnamed: 12', 'Unnamed: 13', 'Unnamed: 14', 'Unnamed: 15', 'Unnamed: 16', 'Unnamed: 17', 'Unnamed: 18', 'Unnamed: 19', 'Unnamed: 20', 'Unnamed: 21', 'Unnamed: 22', 'Unnamed: 23', 'Unnamed: 24', 'Unnamed: 25', 'Unnamed: 26', 'Unnamed: 27', 'Unnamed: 28', 'Unnamed: 29', 'Unnamed: 30', 'Unnamed: 31', 'Unnamed: 32', 'Unnamed: 33', 'Unnamed: 34', 'Unnamed: 35', 'Unnamed: 36', 'Unnamed: 37', 'Unnamed: 38', 'Unnamed: 39', 'Unnamed: 40', 'Unnamed: 41', 'Unnamed: 42', 'Unnamed: 43', 'Unnamed: 44', 'Unnamed: 45', 'Unnamed: 46', 'Unnamed: 47', 'Unnamed: 48', 'Unnamed: 49', 'Unnamed: 50', 'Unnamed: 51', 'Unnamed: 52', 'Unnamed: 53', 'Unnamed: 54', 'Unnamed: 55', 'Unnamed: 56', 'Unnamed: 57', 'Unnamed: 58', 'Unnamed: 59', 'Unnamed: 60', 'Unnamed: 61', 'Unnamed: 62', 'Unnamed: 63', 'Unnamed: 64', 'Unnamed: 65', 'Unnamed: 66', 'Unnamed: 67', 'Unnamed: 68', 'Unnamed: 69', 'Unnamed: 70', 'Unnamed: 71', 'Unnamed: 72', 'Unnamed: 73', 'Unnamed: 74', 'Unnamed: 75', 'Unnamed: 76', 'Unnamed: 77', 'Unnamed: 78', 'Unnamed: 79', 'Unnamed: 80', 'Unnamed: 81', 'Unnamed: 82', 'Unnamed: 83', 'Unnamed: 84', 'Unnamed: 85', 'Unnamed: 86', 'Unnamed: 87', 'Unnamed: 88', 'Unnamed: 89', 'Unnamed: 90', 'Unnamed: 91', 'Unnamed: 92', 'Unnamed: 93', 'Unnamed: 94', 'Unnamed: 95', 'Unnamed: 96', 'Unnamed: 97', 'Unnamed: 98', 'Unnamed: 99', 'Unnamed: 100', 'Unnamed: 101', 'Unnamed: 102', 'Unnamed: 103', 'Unnamed: 104', 'Unnamed: 105', 'Unnamed: 106', 'Unnamed: 107']\n"
     ]
    },
    {
     "name": "stderr",
     "output_type": "stream",
     "text": [
      "Analyzing Sentiments: 100%|██████████| 5734/5734 [06:22<00:00, 15.01it/s]\n"
     ]
    },
    {
     "name": "stdout",
     "output_type": "stream",
     "text": [
      "Sentiment analysis completed! Results saved to /Users/ritvikgupta1721/Documents/MINORII/FEATURES/SENTIMENT/OUTPUT/sentiment_analysis_results.csv\n",
      "                                       combined_text Predicted Sentiment  \\\n",
      "0  Subject: naturally irresistible your corporate...            positive   \n",
      "1  Subject: the stock trading gunslinger  fanny i...            negative   \n",
      "2  Subject: unbelievable new homes made easy  im ...            positive   \n",
      "3  Subject: 4 color printing special  request add...            positive   \n",
      "4  Subject: do not have money , get software cds ...            positive   \n",
      "\n",
      "   Confidence  \n",
      "0    0.999997  \n",
      "1    0.895580  \n",
      "2    0.999992  \n",
      "3    0.999971  \n",
      "4    0.987762  \n"
     ]
    }
   ],
   "source": [
    "# Execute main if running as script\n",
    "if __name__ == \"__main__\":\n",
    "    main()"
   ]
  }
 ],
 "metadata": {
  "kernelspec": {
   "display_name": "Python 3.12.2 64-bit",
   "language": "python",
   "name": "python3"
  },
  "language_info": {
   "codemirror_mode": {
    "name": "ipython",
    "version": 3
   },
   "file_extension": ".py",
   "mimetype": "text/x-python",
   "name": "python",
   "nbconvert_exporter": "python",
   "pygments_lexer": "ipython3",
   "version": "3.12.2"
  },
  "orig_nbformat": 4,
  "vscode": {
   "interpreter": {
    "hash": "aee8b7b246df8f9039afb4144a1f6fd8d2ca17a180786b69acc140d282b71a49"
   }
  }
 },
 "nbformat": 4,
 "nbformat_minor": 2
}
